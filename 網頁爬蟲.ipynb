{
 "cells": [
  {
   "cell_type": "code",
   "execution_count": 1,
   "id": "48ad7fe6",
   "metadata": {},
   "outputs": [],
   "source": [
    "import requests\n",
    "import bs4\n",
    "import csv\n",
    "import random,time"
   ]
  },
  {
   "cell_type": "code",
   "execution_count": 2,
   "id": "bd4d5e64",
   "metadata": {},
   "outputs": [],
   "source": [
    "url_1 = 'https://www.104.com.tw/jobs/search/?ro=0&isnew=30&kwop=7&keyword=%E6%95%B8%E6%93%9A%E5%88%86%E6%9E%90&expansionType=area%2Cspec%2Ccom%2Cjob%2Cwf%2Cwktm&area=6001002000%2C6001001001%2C6001001004%2C6001001005%2C6001001002%2C6001001007%2C6001001012%2C6001001003&order=12&asc=0&page=3&jobexp=1%2C3'\n",
    "url_2 = '&mode=s&jobsource=index_s&langFlag=0&langStatus=0&recommendJob=1&hotJob=1'"
   ]
  },
  {
   "cell_type": "code",
   "execution_count": 3,
   "id": "aa624d34",
   "metadata": {},
   "outputs": [
    {
     "name": "stdout",
     "output_type": "stream",
     "text": [
      "https://www.104.com.tw/jobs/search/?ro=0&isnew=30&kwop=7&keyword=%E6%95%B8%E6%93%9A%E5%88%86%E6%9E%90&expansionType=area%2Cspec%2Ccom%2Cjob%2Cwf%2Cwktm&area=6001002000%2C6001001001%2C6001001004%2C6001001005%2C6001001002%2C6001001007%2C6001001012%2C6001001003&order=12&asc=0&page=3&jobexp=1%2C3<class 'range'>&mode=s&jobsource=index_s&langFlag=0&langStatus=0&recommendJob=1&hotJob=1\n",
      "爬取完成，資料以保存至 104職缺內容.csv\n"
     ]
    }
   ],
   "source": [
    "all_job_datas=[]\n",
    "for page in range(1,2):\n",
    "        url = url_1 + str(range) + url_2\n",
    "        print(url)\n",
    "        htmlfile = requests.get(url)\n",
    "        joblist = bs4.BeautifulSoup(htmlfile.text,'html.parser')\n",
    "        jobs = joblist.find_all('article', class_ = 'js-job-item')\n",
    "        for job in jobs:\n",
    "            job_name = job.find('a', class_ = 'js-job-link').text\n",
    "            job_company = job.get('data-cust-name')\n",
    "            job_industry = job.find('ul', class_ = 'b-list-inline b-clearfix').find_all('li')[1].find_next('li').text\n",
    "            job_loc = job.find('ul', class_ = 'job-list-intro').find_all('li')[0].text\n",
    "            job_exp = job.find('ul', class_ = 'job-list-intro').find_all('li')[1].text\n",
    "            job_edu = job.find('ul', class_ = 'job-list-intro').find_all('li')[2].text\n",
    "            job_pay = job.find('div', class_=\"job-list-tag b-content\")\n",
    "            job_url = 'https:'+ job.find('a').get('href')\n",
    "            if job_pay.select('span') and job_pay.span.text == \"待遇面議\":\n",
    "                job_pay = job_pay.span.text\n",
    "            else:\n",
    "                job_pay = job_pay.a.text\n",
    "            \n",
    "            job_data = {\n",
    "                '職缺名稱':job_name,\n",
    "                '公司名稱':job_company,\n",
    "                '公司產業':job_industry,\n",
    "                '地址':job_loc,\n",
    "                '工作經驗':job_exp,\n",
    "                '學歷要求':job_edu,\n",
    "                '薪資待遇': job_pay,\n",
    "                '網址': job_url\n",
    "            }\n",
    "            all_job_datas.append(job_data)\n",
    "        time.sleep(random.randint(5,10))\n",
    "fn='104職缺內容.csv'\n",
    "columns_name = ['職缺名稱', '公司名稱', '公司產業', '地址', '工作經驗', '學歷要求', '薪資待遇', '網址']\n",
    "with open (fn, mode='w',newline = '', encoding = 'utf-8') as csvfile:\n",
    "    dictwriter = csv.DictWriter(csvfile, fieldnames = columns_name)\n",
    "    dictwriter.writeheader()\n",
    "    for data in all_job_datas:\n",
    "        dictwriter.writerow(data)\n",
    "\n",
    "print('爬取完成，資料以保存至', fn)"
   ]
  },
  {
   "cell_type": "code",
   "execution_count": null,
   "id": "9e5a98fd",
   "metadata": {},
   "outputs": [],
   "source": []
  },
  {
   "cell_type": "code",
   "execution_count": null,
   "id": "24b8b884",
   "metadata": {},
   "outputs": [],
   "source": []
  }
 ],
 "metadata": {
  "kernelspec": {
   "display_name": "Python 3 (ipykernel)",
   "language": "python",
   "name": "python3"
  },
  "language_info": {
   "codemirror_mode": {
    "name": "ipython",
    "version": 3
   },
   "file_extension": ".py",
   "mimetype": "text/x-python",
   "name": "python",
   "nbconvert_exporter": "python",
   "pygments_lexer": "ipython3",
   "version": "3.11.5"
  }
 },
 "nbformat": 4,
 "nbformat_minor": 5
}
